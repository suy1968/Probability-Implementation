{
  "nbformat": 4,
  "nbformat_minor": 0,
  "metadata": {
    "colab": {
      "name": "cancer_resultsipynb",
      "provenance": []
    },
    "kernelspec": {
      "name": "python3",
      "display_name": "Python 3"
    }
  },
  "cells": [
    {
      "cell_type": "code",
      "metadata": {
        "id": "U3qTsQZZ5Iib",
        "colab_type": "code",
        "colab": {}
      },
      "source": [
        "# Importing labraries\n",
        "import pandas as pd\n",
        "import numpy as np"
      ],
      "execution_count": 1,
      "outputs": []
    },
    {
      "cell_type": "code",
      "metadata": {
        "id": "J3KRrhUp-ovq",
        "colab_type": "code",
        "colab": {}
      },
      "source": [
        "# load dataset\n",
        "df = pd.read_csv('cancer_test_data.csv')"
      ],
      "execution_count": 2,
      "outputs": []
    },
    {
      "cell_type": "code",
      "metadata": {
        "id": "QnxBUsD3-upW",
        "colab_type": "code",
        "colab": {
          "base_uri": "https://localhost:8080/",
          "height": 34
        },
        "outputId": "4eaaf65e-54bc-4ab3-d882-ec4bd5e65c99"
      },
      "source": [
        "# number of patients\n",
        "len(df.patient_id)"
      ],
      "execution_count": 3,
      "outputs": [
        {
          "output_type": "execute_result",
          "data": {
            "text/plain": [
              "2914"
            ]
          },
          "metadata": {
            "tags": []
          },
          "execution_count": 3
        }
      ]
    },
    {
      "cell_type": "code",
      "metadata": {
        "id": "XQeyzBwu-3Zg",
        "colab_type": "code",
        "colab": {
          "base_uri": "https://localhost:8080/",
          "height": 34
        },
        "outputId": "c535c9d6-943e-4db4-efe5-5511d6a0bc5f"
      },
      "source": [
        "# number of patients with cancer\n",
        "df.has_cancer.value_counts()[1]"
      ],
      "execution_count": 4,
      "outputs": [
        {
          "output_type": "execute_result",
          "data": {
            "text/plain": [
              "306"
            ]
          },
          "metadata": {
            "tags": []
          },
          "execution_count": 4
        }
      ]
    },
    {
      "cell_type": "code",
      "metadata": {
        "id": "Tis05_4J-7DU",
        "colab_type": "code",
        "colab": {
          "base_uri": "https://localhost:8080/",
          "height": 34
        },
        "outputId": "ad919a26-29b5-44d6-93dd-e3d38968ba38"
      },
      "source": [
        "# number of patients without cancer\n",
        "df.has_cancer.value_counts()[0]"
      ],
      "execution_count": 5,
      "outputs": [
        {
          "output_type": "execute_result",
          "data": {
            "text/plain": [
              "2608"
            ]
          },
          "metadata": {
            "tags": []
          },
          "execution_count": 5
        }
      ]
    },
    {
      "cell_type": "code",
      "metadata": {
        "id": "CoBrhagt_GbV",
        "colab_type": "code",
        "colab": {
          "base_uri": "https://localhost:8080/",
          "height": 34
        },
        "outputId": "1704efba-3086-4a9b-97b0-1ed44f6e4d48"
      },
      "source": [
        "# proportion of patients with cancer\n",
        "df.has_cancer.value_counts()[1]/sum(df.has_cancer.value_counts())"
      ],
      "execution_count": 6,
      "outputs": [
        {
          "output_type": "execute_result",
          "data": {
            "text/plain": [
              "0.10501029512697323"
            ]
          },
          "metadata": {
            "tags": []
          },
          "execution_count": 6
        }
      ]
    },
    {
      "cell_type": "code",
      "metadata": {
        "id": "Js9ZBWVc_UkS",
        "colab_type": "code",
        "colab": {
          "base_uri": "https://localhost:8080/",
          "height": 34
        },
        "outputId": "6aa13ce7-30ab-4e14-fc0e-6917775a9625"
      },
      "source": [
        "# proportion of patients without cancer\n",
        "df.has_cancer.value_counts()[0]/sum(df.has_cancer.value_counts())"
      ],
      "execution_count": 7,
      "outputs": [
        {
          "output_type": "execute_result",
          "data": {
            "text/plain": [
              "0.8949897048730268"
            ]
          },
          "metadata": {
            "tags": []
          },
          "execution_count": 7
        }
      ]
    },
    {
      "cell_type": "code",
      "metadata": {
        "id": "GjtnpvAZ_Xax",
        "colab_type": "code",
        "colab": {
          "base_uri": "https://localhost:8080/",
          "height": 34
        },
        "outputId": "f0441c90-6f2c-4f27-fee9-ba415a960aea"
      },
      "source": [
        "# proportion of patients with cancer who test positive\n",
        "df[df.has_cancer].test_result.value_counts()[0]/sum(df[df.has_cancer].test_result.value_counts())"
      ],
      "execution_count": 8,
      "outputs": [
        {
          "output_type": "execute_result",
          "data": {
            "text/plain": [
              "0.9052287581699346"
            ]
          },
          "metadata": {
            "tags": []
          },
          "execution_count": 8
        }
      ]
    },
    {
      "cell_type": "code",
      "metadata": {
        "id": "ZAgrXzL9_dpo",
        "colab_type": "code",
        "colab": {
          "base_uri": "https://localhost:8080/",
          "height": 34
        },
        "outputId": "67d92118-7abb-4351-c553-5585f4db6904"
      },
      "source": [
        "# proportion of patients with cancer who test negative\n",
        "df[df.has_cancer].test_result.value_counts()[1]/sum(df[df.has_cancer].test_result.value_counts())"
      ],
      "execution_count": 9,
      "outputs": [
        {
          "output_type": "execute_result",
          "data": {
            "text/plain": [
              "0.09477124183006536"
            ]
          },
          "metadata": {
            "tags": []
          },
          "execution_count": 9
        }
      ]
    },
    {
      "cell_type": "code",
      "metadata": {
        "id": "LgYivLAu_f0N",
        "colab_type": "code",
        "colab": {
          "base_uri": "https://localhost:8080/",
          "height": 34
        },
        "outputId": "436c036f-0e7d-4cfa-aa1f-5769832dc163"
      },
      "source": [
        "# proportion of patients without cancer who test positive\n",
        "df[np.logical_not(df.has_cancer)].test_result.value_counts()[0]/sum(df[np.logical_not(df.has_cancer)].test_result.value_counts())"
      ],
      "execution_count": 10,
      "outputs": [
        {
          "output_type": "execute_result",
          "data": {
            "text/plain": [
              "0.7963957055214724"
            ]
          },
          "metadata": {
            "tags": []
          },
          "execution_count": 10
        }
      ]
    },
    {
      "cell_type": "code",
      "metadata": {
        "id": "xVdUJVem_jm2",
        "colab_type": "code",
        "colab": {
          "base_uri": "https://localhost:8080/",
          "height": 34
        },
        "outputId": "5f430c0b-f06e-4364-bd82-b7e2aafc1bcd"
      },
      "source": [
        "# proportion of patients without cancer who test negative\n",
        "df[np.logical_not(df.has_cancer)].test_result.value_counts()[1]/sum(df[np.logical_not(df.has_cancer)].test_result.value_counts())"
      ],
      "execution_count": 11,
      "outputs": [
        {
          "output_type": "execute_result",
          "data": {
            "text/plain": [
              "0.2036042944785276"
            ]
          },
          "metadata": {
            "tags": []
          },
          "execution_count": 11
        }
      ]
    },
    {
      "cell_type": "code",
      "metadata": {
        "id": "OhogOktn_nJy",
        "colab_type": "code",
        "colab": {}
      },
      "source": [
        "P_cancer = 0.105\n",
        "P_not_cancer = 1 - P_cancer\n",
        "P_positive_cancer = 0.905\n",
        "P_negative_cancer = 1 - P_positive_cancer   # conditional_probability\n",
        "P_positive_not_cancer = 0.204\n",
        "P_negative_not_cancer = 1 - P_positive_not_cancer"
      ],
      "execution_count": 12,
      "outputs": []
    },
    {
      "cell_type": "code",
      "metadata": {
        "id": "qWmkRmLJAXdt",
        "colab_type": "code",
        "colab": {
          "base_uri": "https://localhost:8080/",
          "height": 34
        },
        "outputId": "c33bb463-82c6-4984-b36b-0d4205406a19"
      },
      "source": [
        "# Calculating the P_positive\n",
        "P_positive = P_cancer * P_positive_cancer + P_not_cancer * P_positive_not_cancer\n",
        "\n",
        "# P(positive)\n",
        "P_positive"
      ],
      "execution_count": 13,
      "outputs": [
        {
          "output_type": "execute_result",
          "data": {
            "text/plain": [
              "0.277605"
            ]
          },
          "metadata": {
            "tags": []
          },
          "execution_count": 13
        }
      ]
    },
    {
      "cell_type": "code",
      "metadata": {
        "id": "JYe7p9bfAaYj",
        "colab_type": "code",
        "colab": {
          "base_uri": "https://localhost:8080/",
          "height": 34
        },
        "outputId": "4e26cfbd-ef4d-4a9a-8c76-fde1836568cf"
      },
      "source": [
        "# P(cancer|positive) = P(cancer) * P(positive|cancer)/P(positive)\n",
        "P_cancer_positive = P_cancer * P_positive_cancer / P_positive\n",
        "\n",
        "# P(cancer|positive)\n",
        "P_cancer_positive"
      ],
      "execution_count": 14,
      "outputs": [
        {
          "output_type": "execute_result",
          "data": {
            "text/plain": [
              "0.34230291241151994"
            ]
          },
          "metadata": {
            "tags": []
          },
          "execution_count": 14
        }
      ]
    },
    {
      "cell_type": "code",
      "metadata": {
        "id": "ieRlETPHA0Za",
        "colab_type": "code",
        "colab": {
          "base_uri": "https://localhost:8080/",
          "height": 34
        },
        "outputId": "cd5fee6d-a069-4df0-9835-e0860916cccb"
      },
      "source": [
        "# P(not cancer|positive) = P(not cancer) * P(positive|cancer)/P(positive)\n",
        "P_not_cancer_positive = P_not_cancer * P_positive_not_cancer / P_positive\n",
        "\n",
        "# P(not cancer|positive)\n",
        "P_not_cancer_positive"
      ],
      "execution_count": 15,
      "outputs": [
        {
          "output_type": "execute_result",
          "data": {
            "text/plain": [
              "0.65769708758848"
            ]
          },
          "metadata": {
            "tags": []
          },
          "execution_count": 15
        }
      ]
    },
    {
      "cell_type": "code",
      "metadata": {
        "id": "KgHiXMSgA4Q3",
        "colab_type": "code",
        "colab": {
          "base_uri": "https://localhost:8080/",
          "height": 34
        },
        "outputId": "2eab90c5-2ac5-4e83-f8ee-955e59a9dc60"
      },
      "source": [
        "# Calculating the P_negative\n",
        "P_negative = P_cancer * P_negative_cancer + P_not_cancer * P_negative_not_cancer\n",
        "\n",
        "# P(negative)\n",
        "P_negative"
      ],
      "execution_count": 16,
      "outputs": [
        {
          "output_type": "execute_result",
          "data": {
            "text/plain": [
              "0.722395"
            ]
          },
          "metadata": {
            "tags": []
          },
          "execution_count": 16
        }
      ]
    },
    {
      "cell_type": "code",
      "metadata": {
        "id": "sXpRvs0xBAPE",
        "colab_type": "code",
        "colab": {
          "base_uri": "https://localhost:8080/",
          "height": 34
        },
        "outputId": "44905d7d-b8bd-4815-8950-59c67b2ae6b3"
      },
      "source": [
        "# P(cancer|negative) = P(cancer) * P(negative|cancer)/P(negative)\n",
        "P_cancer_negative = P_cancer * P_negative_cancer / P_negative\n",
        "\n",
        "# P(cancer|positive)\n",
        "P_cancer_negative"
      ],
      "execution_count": 17,
      "outputs": [
        {
          "output_type": "execute_result",
          "data": {
            "text/plain": [
              "0.013808235106832129"
            ]
          },
          "metadata": {
            "tags": []
          },
          "execution_count": 17
        }
      ]
    },
    {
      "cell_type": "code",
      "metadata": {
        "id": "evRHI_4pBFiS",
        "colab_type": "code",
        "colab": {
          "base_uri": "https://localhost:8080/",
          "height": 34
        },
        "outputId": "b1fefe11-6951-4aba-d75a-47f39c81fb62"
      },
      "source": [
        "# P(not cancer|P_negative) = P(not cancer) * P(P_negative|cancer)/P(P_negative)\n",
        "P_not_cancer_P_negative = P_not_cancer * P_negative_not_cancer / P_negative\n",
        "\n",
        "# P(not cancer|P_negative)\n",
        "P_not_cancer_P_negative"
      ],
      "execution_count": 18,
      "outputs": [
        {
          "output_type": "execute_result",
          "data": {
            "text/plain": [
              "0.986191764893168"
            ]
          },
          "metadata": {
            "tags": []
          },
          "execution_count": 18
        }
      ]
    },
    {
      "cell_type": "code",
      "metadata": {
        "id": "xzC6ZF4mBLDn",
        "colab_type": "code",
        "colab": {}
      },
      "source": [
        "#Conditional Probability & Bayes Rule\n",
        "# Importing libraries\n",
        "import pandas as pd\n",
        "import numpy as np"
      ],
      "execution_count": 19,
      "outputs": []
    },
    {
      "cell_type": "code",
      "metadata": {
        "id": "2Ul66Ut-BYAV",
        "colab_type": "code",
        "colab": {}
      },
      "source": [
        "# load dataset\n",
        "df = pd.read_csv('cancer_test_data.csv')"
      ],
      "execution_count": 20,
      "outputs": []
    },
    {
      "cell_type": "code",
      "metadata": {
        "id": "eUiFxwxOBabV",
        "colab_type": "code",
        "colab": {
          "base_uri": "https://localhost:8080/",
          "height": 34
        },
        "outputId": "d00cb4d3-d76c-4a47-f342-13e60cd57268"
      },
      "source": [
        "# What proportion of patients who tested positive has cancer?\n",
        "df[df.test_result == 'Positive'].has_cancer.value_counts()[1]/sum(df[df.test_result == 'Positive'].has_cancer.value_counts())"
      ],
      "execution_count": 21,
      "outputs": [
        {
          "output_type": "execute_result",
          "data": {
            "text/plain": [
              "0.34282178217821785"
            ]
          },
          "metadata": {
            "tags": []
          },
          "execution_count": 21
        }
      ]
    },
    {
      "cell_type": "code",
      "metadata": {
        "id": "G4Xv-Fx9BdIv",
        "colab_type": "code",
        "colab": {
          "base_uri": "https://localhost:8080/",
          "height": 34
        },
        "outputId": "bd9fdfdc-32ff-412b-8bbf-649fd372952f"
      },
      "source": [
        "# What proportion of patients who tested positive doesn't have cancer?\n",
        "df[df.test_result == 'Positive'].has_cancer.value_counts()[0]/sum(df[df.test_result == 'Positive'].has_cancer.value_counts())"
      ],
      "execution_count": 22,
      "outputs": [
        {
          "output_type": "execute_result",
          "data": {
            "text/plain": [
              "0.6571782178217822"
            ]
          },
          "metadata": {
            "tags": []
          },
          "execution_count": 22
        }
      ]
    },
    {
      "cell_type": "code",
      "metadata": {
        "id": "dBnzmVQRBfn1",
        "colab_type": "code",
        "colab": {
          "base_uri": "https://localhost:8080/",
          "height": 34
        },
        "outputId": "8569cf94-e16c-457d-f0ee-ea0f34518290"
      },
      "source": [
        "# What proportion of patients who tested negative has cancer?\n",
        "df[df.test_result == 'Negative'].has_cancer.value_counts()[1]/sum(df[df.test_result == 'Negative'].has_cancer.value_counts())"
      ],
      "execution_count": 23,
      "outputs": [
        {
          "output_type": "execute_result",
          "data": {
            "text/plain": [
              "0.013770180436847104"
            ]
          },
          "metadata": {
            "tags": []
          },
          "execution_count": 23
        }
      ]
    },
    {
      "cell_type": "code",
      "metadata": {
        "id": "4BU2ijVRBj68",
        "colab_type": "code",
        "colab": {
          "base_uri": "https://localhost:8080/",
          "height": 34
        },
        "outputId": "3e369697-a190-449a-a8c7-56af3c80f537"
      },
      "source": [
        "# What proportion of patients who tested negative doesn't have cancer?\n",
        "df[df.test_result == 'Negative'].has_cancer.value_counts()[0]/sum(df[df.test_result == 'Negative'].has_cancer.value_counts())"
      ],
      "execution_count": 24,
      "outputs": [
        {
          "output_type": "execute_result",
          "data": {
            "text/plain": [
              "0.9862298195631529"
            ]
          },
          "metadata": {
            "tags": []
          },
          "execution_count": 24
        }
      ]
    },
    {
      "cell_type": "code",
      "metadata": {
        "id": "ok6-pAdZBmBr",
        "colab_type": "code",
        "colab": {}
      },
      "source": [
        "#Coin Flips and Die Rolls\n",
        "\n",
        "# import numpy\n",
        "import numpy as np"
      ],
      "execution_count": 25,
      "outputs": []
    },
    {
      "cell_type": "code",
      "metadata": {
        "id": "ajj0uiD4B7BH",
        "colab_type": "code",
        "colab": {
          "base_uri": "https://localhost:8080/",
          "height": 34
        },
        "outputId": "ae9ecce1-aad1-45d4-fa45-3f972a3272e4"
      },
      "source": [
        "#Two fair coin flips produce exactly two heads\n",
        "#0 = Heads\n",
        "#1 = Tails\n",
        "\n",
        "# simulate 1 million tests of two fair coin flips\n",
        "tests = np.random.randint(2, size=(int(1e6), 2))\n",
        "\n",
        "# sums of all tests\n",
        "test_sums = tests.sum(axis=1)\n",
        "\n",
        "# proportion of tests that produced exactly two heads\n",
        "(test_sums == 0).mean()"
      ],
      "execution_count": 26,
      "outputs": [
        {
          "output_type": "execute_result",
          "data": {
            "text/plain": [
              "0.250579"
            ]
          },
          "metadata": {
            "tags": []
          },
          "execution_count": 26
        }
      ]
    },
    {
      "cell_type": "code",
      "metadata": {
        "id": "hQEZqbrvCRLL",
        "colab_type": "code",
        "colab": {
          "base_uri": "https://localhost:8080/",
          "height": 34
        },
        "outputId": "dce8f310-8c78-42de-b834-20ee711f6024"
      },
      "source": [
        "#Three fair coin flips produce exactly one head\n",
        "\n",
        "# simulate 1 million tests of three fair coin flips\n",
        "tests = np.random.randint(2, size=(int(1e6), 3))\n",
        "\n",
        "# sums of all tests\n",
        "test_sums =  tests.sum(axis=1)\n",
        "\n",
        "# proportion of tests that produced exactly one head\n",
        "(test_sums == 2).mean()"
      ],
      "execution_count": 27,
      "outputs": [
        {
          "output_type": "execute_result",
          "data": {
            "text/plain": [
              "0.375526"
            ]
          },
          "metadata": {
            "tags": []
          },
          "execution_count": 27
        }
      ]
    },
    {
      "cell_type": "code",
      "metadata": {
        "id": "Zsqzn4FfCmul",
        "colab_type": "code",
        "colab": {
          "base_uri": "https://localhost:8080/",
          "height": 34
        },
        "outputId": "1803742d-97e2-4d70-e686-3413509a31e8"
      },
      "source": [
        "#Three biased coin flips with P(H) = 0.6 produce exactly one head\n",
        "\n",
        "# simulate 1 million tests of three bias coin flips\n",
        "# hint: use np.random.choice()\n",
        "tests = np.random.choice([0, 1], size = (int(1e6),3), p = [0.6, 0.4])\n",
        "\n",
        "# sums of all tests\n",
        "test_sums =  tests.sum(axis=1)\n",
        "\n",
        "# proportion of tests that produced exactly one head\n",
        "(test_sums == 2).mean()"
      ],
      "execution_count": 28,
      "outputs": [
        {
          "output_type": "execute_result",
          "data": {
            "text/plain": [
              "0.288848"
            ]
          },
          "metadata": {
            "tags": []
          },
          "execution_count": 28
        }
      ]
    },
    {
      "cell_type": "code",
      "metadata": {
        "id": "v4rHXvW0DGhb",
        "colab_type": "code",
        "colab": {
          "base_uri": "https://localhost:8080/",
          "height": 34
        },
        "outputId": "f897e17a-8b84-41cb-e172-43e64600829b"
      },
      "source": [
        "#A die rolls an even number\n",
        "\n",
        "# simulate 1 million tests of one die roll\n",
        "tests = np.random.randint(1,7, size=(int(1e6)))\n",
        "\n",
        "# proportion of tests that produced an even number\n",
        "len(tests[tests % 2 == 0])/len(tests)"
      ],
      "execution_count": 29,
      "outputs": [
        {
          "output_type": "execute_result",
          "data": {
            "text/plain": [
              "0.500776"
            ]
          },
          "metadata": {
            "tags": []
          },
          "execution_count": 29
        }
      ]
    },
    {
      "cell_type": "code",
      "metadata": {
        "id": "LtsxkJXMDOfB",
        "colab_type": "code",
        "colab": {
          "base_uri": "https://localhost:8080/",
          "height": 34
        },
        "outputId": "21ad974e-687d-4ce7-e575-aa262a99d178"
      },
      "source": [
        "#Two dice roll a double\n",
        "\n",
        "# simulate the first million die rolls\n",
        "first = np.random.randint(1,7, size=(int(1e6)))\n",
        "\n",
        "# simulate the second million die rolls\n",
        "second = np.random.randint(1,7, size=(int(1e6)))\n",
        "\n",
        "# proportion of tests where the 1st and 2nd die rolled the same number\n",
        "sum(first == second)/1e6"
      ],
      "execution_count": 30,
      "outputs": [
        {
          "output_type": "execute_result",
          "data": {
            "text/plain": [
              "0.166852"
            ]
          },
          "metadata": {
            "tags": []
          },
          "execution_count": 30
        }
      ]
    },
    {
      "cell_type": "code",
      "metadata": {
        "id": "10B10FNXDT94",
        "colab_type": "code",
        "colab": {}
      },
      "source": [
        ""
      ],
      "execution_count": null,
      "outputs": []
    }
  ]
}