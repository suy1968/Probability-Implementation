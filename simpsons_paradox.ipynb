{
  "nbformat": 4,
  "nbformat_minor": 0,
  "metadata": {
    "colab": {
      "name": "simpsons_paradox.ipynb",
      "provenance": []
    },
    "kernelspec": {
      "name": "python3",
      "display_name": "Python 3"
    }
  },
  "cells": [
    {
      "cell_type": "code",
      "metadata": {
        "id": "yNkkhFqjvfWx",
        "colab_type": "code",
        "colab": {}
      },
      "source": [
        "# Importing Library\n",
        "import pandas as pd\n",
        "import numpy as np"
      ],
      "execution_count": 1,
      "outputs": []
    },
    {
      "cell_type": "code",
      "metadata": {
        "id": "43NqiVb7v0MH",
        "colab_type": "code",
        "colab": {}
      },
      "source": [
        "# Loading data from admission_data.csv\n",
        "df = pd.read_csv('admission_data.csv')\n"
      ],
      "execution_count": 2,
      "outputs": []
    },
    {
      "cell_type": "code",
      "metadata": {
        "id": "tKhVwuQUwEoO",
        "colab_type": "code",
        "colab": {
          "base_uri": "https://localhost:8080/",
          "height": 195
        },
        "outputId": "eda46206-5e2d-4000-bf8d-43e7a91231d5"
      },
      "source": [
        "# Printing the first 5 rows.\n",
        "df.head()"
      ],
      "execution_count": 3,
      "outputs": [
        {
          "output_type": "execute_result",
          "data": {
            "text/html": [
              "<div>\n",
              "<style scoped>\n",
              "    .dataframe tbody tr th:only-of-type {\n",
              "        vertical-align: middle;\n",
              "    }\n",
              "\n",
              "    .dataframe tbody tr th {\n",
              "        vertical-align: top;\n",
              "    }\n",
              "\n",
              "    .dataframe thead th {\n",
              "        text-align: right;\n",
              "    }\n",
              "</style>\n",
              "<table border=\"1\" class=\"dataframe\">\n",
              "  <thead>\n",
              "    <tr style=\"text-align: right;\">\n",
              "      <th></th>\n",
              "      <th>student_id</th>\n",
              "      <th>gender</th>\n",
              "      <th>major</th>\n",
              "      <th>admitted</th>\n",
              "    </tr>\n",
              "  </thead>\n",
              "  <tbody>\n",
              "    <tr>\n",
              "      <th>0</th>\n",
              "      <td>35377</td>\n",
              "      <td>female</td>\n",
              "      <td>Chemistry</td>\n",
              "      <td>False</td>\n",
              "    </tr>\n",
              "    <tr>\n",
              "      <th>1</th>\n",
              "      <td>56105</td>\n",
              "      <td>male</td>\n",
              "      <td>Physics</td>\n",
              "      <td>True</td>\n",
              "    </tr>\n",
              "    <tr>\n",
              "      <th>2</th>\n",
              "      <td>31441</td>\n",
              "      <td>female</td>\n",
              "      <td>Chemistry</td>\n",
              "      <td>False</td>\n",
              "    </tr>\n",
              "    <tr>\n",
              "      <th>3</th>\n",
              "      <td>51765</td>\n",
              "      <td>male</td>\n",
              "      <td>Physics</td>\n",
              "      <td>True</td>\n",
              "    </tr>\n",
              "    <tr>\n",
              "      <th>4</th>\n",
              "      <td>53714</td>\n",
              "      <td>female</td>\n",
              "      <td>Physics</td>\n",
              "      <td>True</td>\n",
              "    </tr>\n",
              "  </tbody>\n",
              "</table>\n",
              "</div>"
            ],
            "text/plain": [
              "   student_id  gender      major  admitted\n",
              "0       35377  female  Chemistry     False\n",
              "1       56105    male    Physics      True\n",
              "2       31441  female  Chemistry     False\n",
              "3       51765    male    Physics      True\n",
              "4       53714  female    Physics      True"
            ]
          },
          "metadata": {
            "tags": []
          },
          "execution_count": 3
        }
      ]
    },
    {
      "cell_type": "code",
      "metadata": {
        "id": "lMosFSp7wJUi",
        "colab_type": "code",
        "colab": {
          "base_uri": "https://localhost:8080/",
          "height": 195
        },
        "outputId": "28021518-daba-4d77-abe3-4e917fd14912"
      },
      "source": [
        "# Printing the Last 5 rows.\n",
        "df.tail()"
      ],
      "execution_count": 4,
      "outputs": [
        {
          "output_type": "execute_result",
          "data": {
            "text/html": [
              "<div>\n",
              "<style scoped>\n",
              "    .dataframe tbody tr th:only-of-type {\n",
              "        vertical-align: middle;\n",
              "    }\n",
              "\n",
              "    .dataframe tbody tr th {\n",
              "        vertical-align: top;\n",
              "    }\n",
              "\n",
              "    .dataframe thead th {\n",
              "        text-align: right;\n",
              "    }\n",
              "</style>\n",
              "<table border=\"1\" class=\"dataframe\">\n",
              "  <thead>\n",
              "    <tr style=\"text-align: right;\">\n",
              "      <th></th>\n",
              "      <th>student_id</th>\n",
              "      <th>gender</th>\n",
              "      <th>major</th>\n",
              "      <th>admitted</th>\n",
              "    </tr>\n",
              "  </thead>\n",
              "  <tbody>\n",
              "    <tr>\n",
              "      <th>495</th>\n",
              "      <td>26950</td>\n",
              "      <td>male</td>\n",
              "      <td>Physics</td>\n",
              "      <td>False</td>\n",
              "    </tr>\n",
              "    <tr>\n",
              "      <th>496</th>\n",
              "      <td>25775</td>\n",
              "      <td>female</td>\n",
              "      <td>Chemistry</td>\n",
              "      <td>True</td>\n",
              "    </tr>\n",
              "    <tr>\n",
              "      <th>497</th>\n",
              "      <td>47243</td>\n",
              "      <td>female</td>\n",
              "      <td>Chemistry</td>\n",
              "      <td>True</td>\n",
              "    </tr>\n",
              "    <tr>\n",
              "      <th>498</th>\n",
              "      <td>52067</td>\n",
              "      <td>male</td>\n",
              "      <td>Physics</td>\n",
              "      <td>True</td>\n",
              "    </tr>\n",
              "    <tr>\n",
              "      <th>499</th>\n",
              "      <td>50535</td>\n",
              "      <td>male</td>\n",
              "      <td>Physics</td>\n",
              "      <td>False</td>\n",
              "    </tr>\n",
              "  </tbody>\n",
              "</table>\n",
              "</div>"
            ],
            "text/plain": [
              "     student_id  gender      major  admitted\n",
              "495       26950    male    Physics     False\n",
              "496       25775  female  Chemistry      True\n",
              "497       47243  female  Chemistry      True\n",
              "498       52067    male    Physics      True\n",
              "499       50535    male    Physics     False"
            ]
          },
          "metadata": {
            "tags": []
          },
          "execution_count": 4
        }
      ]
    },
    {
      "cell_type": "code",
      "metadata": {
        "id": "jTQXfs0YwN1m",
        "colab_type": "code",
        "colab": {
          "base_uri": "https://localhost:8080/",
          "height": 101
        },
        "outputId": "34026148-6f34-4db4-f2c7-cd821c5ca314"
      },
      "source": [
        "#Proportion and admission rate for each gender\n",
        "\n",
        "# Quantity of each gender.\n",
        "print(df.gender.value_counts())\n",
        "\n",
        "# Proportion of students that are female\n",
        "print('\\nFemale proportion: ',df.gender.value_counts()[0]/sum(df.gender.value_counts()))"
      ],
      "execution_count": 5,
      "outputs": [
        {
          "output_type": "stream",
          "text": [
            "female    257\n",
            "male      243\n",
            "Name: gender, dtype: int64\n",
            "\n",
            "Female proportion:  0.514\n"
          ],
          "name": "stdout"
        }
      ]
    },
    {
      "cell_type": "code",
      "metadata": {
        "id": "pbGN8Lh0wZbA",
        "colab_type": "code",
        "colab": {
          "base_uri": "https://localhost:8080/",
          "height": 101
        },
        "outputId": "9e75cf6a-04de-41f5-bbe1-91929b11c701"
      },
      "source": [
        "# Quantity of each gender.\n",
        "print(df.gender.value_counts())\n",
        "\n",
        "# Proportion of students that are male\n",
        "print('\\nMale proportion: ',df.gender.value_counts()[1]/sum(df.gender.value_counts()))"
      ],
      "execution_count": 6,
      "outputs": [
        {
          "output_type": "stream",
          "text": [
            "female    257\n",
            "male      243\n",
            "Name: gender, dtype: int64\n",
            "\n",
            "Male proportion:  0.486\n"
          ],
          "name": "stdout"
        }
      ]
    },
    {
      "cell_type": "code",
      "metadata": {
        "id": "sWNsDmCOweNm",
        "colab_type": "code",
        "colab": {
          "base_uri": "https://localhost:8080/",
          "height": 101
        },
        "outputId": "ca2b141a-6c85-46cb-b7d2-f4ec33ef5afb"
      },
      "source": [
        "# Subsetting the df to filter only female observations.\n",
        "df_female = df[df.gender == 'female']\n",
        "\n",
        "# Quantity of female admitted.\n",
        "print(df_female.admitted.value_counts())\n",
        "\n",
        "# Admission rate for females\n",
        "print('\\nFemale Admission rate:',df_female.admitted.value_counts()[1]/sum(df_female.admitted.value_counts()))"
      ],
      "execution_count": 7,
      "outputs": [
        {
          "output_type": "stream",
          "text": [
            "False    183\n",
            "True      74\n",
            "Name: admitted, dtype: int64\n",
            "\n",
            "Female Admission rate: 0.28793774319066145\n"
          ],
          "name": "stdout"
        }
      ]
    },
    {
      "cell_type": "code",
      "metadata": {
        "id": "hP47vqInwhkk",
        "colab_type": "code",
        "colab": {
          "base_uri": "https://localhost:8080/",
          "height": 101
        },
        "outputId": "54b253ec-e939-463b-feb9-b59beb91fb1f"
      },
      "source": [
        "# Subsetting the df to filter only male observations.\n",
        "df_male = df[df.gender == 'male']\n",
        "\n",
        "# Quantity of male admitted.\n",
        "print(df_male.admitted.value_counts())\n",
        "\n",
        "# Admission rate for male\n",
        "print('\\nMale Admission rate:',df_male.admitted.value_counts()[1]/sum(df_male.admitted.value_counts()))"
      ],
      "execution_count": 8,
      "outputs": [
        {
          "output_type": "stream",
          "text": [
            "False    125\n",
            "True     118\n",
            "Name: admitted, dtype: int64\n",
            "\n",
            "Male Admission rate: 0.48559670781893005\n"
          ],
          "name": "stdout"
        }
      ]
    },
    {
      "cell_type": "code",
      "metadata": {
        "id": "yTJizMX0wk_9",
        "colab_type": "code",
        "colab": {
          "base_uri": "https://localhost:8080/",
          "height": 101
        },
        "outputId": "6819c81a-abbf-4e92-a948-a2884fa56c01"
      },
      "source": [
        "#Proportion and admission rate for physics majors of each gender\n",
        "\n",
        "# Subsetting the Physics students.\n",
        "df_physics = df[df.major == \"Physics\"]\n",
        "\n",
        "# Quantity of student by gender\n",
        "print(df_physics.gender.value_counts())\n",
        "\n",
        "# What proportion of female students are majoring in physics?\n",
        "print('\\nFemale Student in Physics: ',df_physics.gender.value_counts()[1]/sum(df_physics.gender.value_counts()))"
      ],
      "execution_count": 9,
      "outputs": [
        {
          "output_type": "stream",
          "text": [
            "male      225\n",
            "female     31\n",
            "Name: gender, dtype: int64\n",
            "\n",
            "Female Student in Physics:  0.12109375\n"
          ],
          "name": "stdout"
        }
      ]
    },
    {
      "cell_type": "code",
      "metadata": {
        "id": "9M2EEAKGwr40",
        "colab_type": "code",
        "colab": {
          "base_uri": "https://localhost:8080/",
          "height": 101
        },
        "outputId": "2b49dc6a-c751-44d5-8a84-9c44cbc64bd2"
      },
      "source": [
        "# Subsetting the Physics students.\n",
        "df_physics = df[df.major == \"Physics\"]\n",
        "\n",
        "# Quantity of student by gender\n",
        "print(df_physics.gender.value_counts())\n",
        "\n",
        "# What proportion of male students are majoring in physics?\n",
        "print('\\nMale Student in Physics: ',df_physics.gender.value_counts()[0]/sum(df_physics.gender.value_counts()))"
      ],
      "execution_count": 10,
      "outputs": [
        {
          "output_type": "stream",
          "text": [
            "male      225\n",
            "female     31\n",
            "Name: gender, dtype: int64\n",
            "\n",
            "Male Student in Physics:  0.87890625\n"
          ],
          "name": "stdout"
        }
      ]
    },
    {
      "cell_type": "code",
      "metadata": {
        "id": "Hw-6eSnuxPKe",
        "colab_type": "code",
        "colab": {
          "base_uri": "https://localhost:8080/",
          "height": 101
        },
        "outputId": "034dcd8d-c7e0-4cf6-82a7-796ec943cc9d"
      },
      "source": [
        "# Number of female physics student admitted.\n",
        "print(df_physics[df_physics.gender == 'female'].admitted.value_counts())\n",
        "\n",
        "# Admission rate for female physics majors\n",
        "print('\\nNumber of Female Student Admitted: ', df_physics[df_physics.gender == 'female'].admitted.value_counts()[1]/len(df_physics[df_physics.gender == 'female'].admitted))"
      ],
      "execution_count": 11,
      "outputs": [
        {
          "output_type": "stream",
          "text": [
            "True     23\n",
            "False     8\n",
            "Name: admitted, dtype: int64\n",
            "\n",
            "Number of Female Student Admitted:  0.7419354838709677\n"
          ],
          "name": "stdout"
        }
      ]
    },
    {
      "cell_type": "code",
      "metadata": {
        "id": "iS4-1Kauxpyi",
        "colab_type": "code",
        "colab": {
          "base_uri": "https://localhost:8080/",
          "height": 101
        },
        "outputId": "cd77872e-ea04-48d7-d1c6-f6a18e6f7b12"
      },
      "source": [
        "# Number of male physics student admitted.\n",
        "print(df_physics[df_physics.gender == 'male'].admitted.value_counts())\n",
        "\n",
        "# Admission rate for male physics majors\n",
        "print('\\nNumber of Male Student Admitted: ', df_physics[df_physics.gender == 'male'].admitted.value_counts()[1]/len(df_physics[df_physics.gender == 'male'].admitted))"
      ],
      "execution_count": 12,
      "outputs": [
        {
          "output_type": "stream",
          "text": [
            "True     116\n",
            "False    109\n",
            "Name: admitted, dtype: int64\n",
            "\n",
            "Number of Male Student Admitted:  0.5155555555555555\n"
          ],
          "name": "stdout"
        }
      ]
    },
    {
      "cell_type": "code",
      "metadata": {
        "id": "OdD2YJVjxtQu",
        "colab_type": "code",
        "colab": {
          "base_uri": "https://localhost:8080/",
          "height": 168
        },
        "outputId": "fb0967b8-5991-40a5-fcd1-1f6f6779607b"
      },
      "source": [
        "#Who tends to have more physics majors than chemistry majors?\n",
        "print('Female:\\n',df[df.gender == 'female'].major.value_counts())\n",
        "print('\\nMale:')\n",
        "print(df[df.gender == 'male'].major.value_counts())"
      ],
      "execution_count": 13,
      "outputs": [
        {
          "output_type": "stream",
          "text": [
            "Female:\n",
            " Chemistry    226\n",
            "Physics       31\n",
            "Name: major, dtype: int64\n",
            "\n",
            "Male:\n",
            "Physics      225\n",
            "Chemistry     18\n",
            "Name: major, dtype: int64\n"
          ],
          "name": "stdout"
        }
      ]
    },
    {
      "cell_type": "code",
      "metadata": {
        "id": "WoZ4KXHUx8L4",
        "colab_type": "code",
        "colab": {
          "base_uri": "https://localhost:8080/",
          "height": 101
        },
        "outputId": "514faefd-20c6-4cf6-eea3-d463cd4b3d07"
      },
      "source": [
        "#Proportion and admission rate for chemistry majors of each gender\n",
        "# What proportion of female students are majoring in chemistry?\n",
        "df_physics = df[df.major == \"Chemistry\"]\n",
        "\n",
        "# Quantity of student by gender\n",
        "print(df_physics.gender.value_counts())\n",
        "\n",
        "# What proportion of female students are majoring in physics?\n",
        "print('\\nFemale Student in Chemistry: ',df_physics.gender.value_counts()[0]/sum(df_physics.gender.value_counts()))"
      ],
      "execution_count": 14,
      "outputs": [
        {
          "output_type": "stream",
          "text": [
            "female    226\n",
            "male       18\n",
            "Name: gender, dtype: int64\n",
            "\n",
            "Female Student in Chemistry:  0.9262295081967213\n"
          ],
          "name": "stdout"
        }
      ]
    },
    {
      "cell_type": "code",
      "metadata": {
        "id": "lhiVFb0_yCx4",
        "colab_type": "code",
        "colab": {
          "base_uri": "https://localhost:8080/",
          "height": 101
        },
        "outputId": "65b58092-86d1-45f6-e504-e9dee683e748"
      },
      "source": [
        "# What proportion of male students are majoring in chemistry?\n",
        "df_chemistry = df[df.major == \"Chemistry\"]\n",
        "\n",
        "# Quantity of student by gender\n",
        "print(df_chemistry.gender.value_counts())\n",
        "\n",
        "# What proportion of female students are majoring in physics?\n",
        "print('\\nMale Student in Chemistry: ',df_chemistry.gender.value_counts()[1]/sum(df_chemistry.gender.value_counts()))"
      ],
      "execution_count": 15,
      "outputs": [
        {
          "output_type": "stream",
          "text": [
            "female    226\n",
            "male       18\n",
            "Name: gender, dtype: int64\n",
            "\n",
            "Male Student in Chemistry:  0.07377049180327869\n"
          ],
          "name": "stdout"
        }
      ]
    },
    {
      "cell_type": "code",
      "metadata": {
        "id": "wAtf93rayFte",
        "colab_type": "code",
        "colab": {
          "base_uri": "https://localhost:8080/",
          "height": 101
        },
        "outputId": "000e27dc-b34f-4795-c6ef-3f91680ad701"
      },
      "source": [
        "# Number of female physics student admitted.\n",
        "print(df_chemistry[df_chemistry.gender == 'female'].admitted.value_counts())\n",
        "\n",
        "# Admission rate for female chemistry majors\n",
        "print('\\nNumber of Female Student Admitted: ', df_chemistry[df_chemistry.gender == 'female'].admitted.value_counts()[1]/len(df_chemistry[df_chemistry.gender == 'female'].admitted))"
      ],
      "execution_count": 16,
      "outputs": [
        {
          "output_type": "stream",
          "text": [
            "False    175\n",
            "True      51\n",
            "Name: admitted, dtype: int64\n",
            "\n",
            "Number of Female Student Admitted:  0.22566371681415928\n"
          ],
          "name": "stdout"
        }
      ]
    },
    {
      "cell_type": "code",
      "metadata": {
        "id": "TOyCbBOYyJ0b",
        "colab_type": "code",
        "colab": {
          "base_uri": "https://localhost:8080/",
          "height": 101
        },
        "outputId": "d4722c17-df7e-4247-c982-5309541f03b0"
      },
      "source": [
        "# Number of female physics student admitted.\n",
        "print(df_chemistry[df_chemistry.gender == 'male'].admitted.value_counts())\n",
        "\n",
        "# Admission rate for male chemistry majors\n",
        "print('\\nNumber of Female Student Admitted: ', df_chemistry[df_chemistry.gender == 'male'].admitted.value_counts()[1]/len(df_chemistry[df_chemistry.gender == 'male'].admitted))"
      ],
      "execution_count": 17,
      "outputs": [
        {
          "output_type": "stream",
          "text": [
            "False    16\n",
            "True      2\n",
            "Name: admitted, dtype: int64\n",
            "\n",
            "Number of Female Student Admitted:  0.1111111111111111\n"
          ],
          "name": "stdout"
        }
      ]
    },
    {
      "cell_type": "code",
      "metadata": {
        "id": "eytGzrQzyMqr",
        "colab_type": "code",
        "colab": {
          "base_uri": "https://localhost:8080/",
          "height": 84
        },
        "outputId": "b1261386-db45-444f-bede-1bdadce2bc86"
      },
      "source": [
        "#Admission rate for each major\n",
        "\n",
        "print(df[df.major == 'Physics'].admitted.value_counts())\n",
        "\n",
        "# Admission rate for physics majors\n",
        "df[df.major == 'Physics'].admitted.value_counts()[1]/sum(df[df.major == 'Physics'].admitted.value_counts())"
      ],
      "execution_count": 18,
      "outputs": [
        {
          "output_type": "stream",
          "text": [
            "True     139\n",
            "False    117\n",
            "Name: admitted, dtype: int64\n"
          ],
          "name": "stdout"
        },
        {
          "output_type": "execute_result",
          "data": {
            "text/plain": [
              "0.54296875"
            ]
          },
          "metadata": {
            "tags": []
          },
          "execution_count": 18
        }
      ]
    },
    {
      "cell_type": "code",
      "metadata": {
        "id": "2KvN-eg3ySS1",
        "colab_type": "code",
        "colab": {
          "base_uri": "https://localhost:8080/",
          "height": 84
        },
        "outputId": "20c86733-9a54-40fa-ede4-5055a5276ac1"
      },
      "source": [
        "print(df[df.major == 'Chemistry'].admitted.value_counts())\n",
        "\n",
        "# Admission rate for chemistry majors\n",
        "df[df.major == 'Chemistry'].admitted.value_counts()[1]/sum(df[df.major == 'Chemistry'].admitted.value_counts())"
      ],
      "execution_count": 19,
      "outputs": [
        {
          "output_type": "stream",
          "text": [
            "False    191\n",
            "True      53\n",
            "Name: admitted, dtype: int64\n"
          ],
          "name": "stdout"
        },
        {
          "output_type": "execute_result",
          "data": {
            "text/plain": [
              "0.21721311475409835"
            ]
          },
          "metadata": {
            "tags": []
          },
          "execution_count": 19
        }
      ]
    },
    {
      "cell_type": "code",
      "metadata": {
        "id": "a8LKfi3LyU0J",
        "colab_type": "code",
        "colab": {}
      },
      "source": [
        ""
      ],
      "execution_count": null,
      "outputs": []
    }
  ]
}