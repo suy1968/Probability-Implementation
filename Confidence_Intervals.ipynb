{
  "nbformat": 4,
  "nbformat_minor": 0,
  "metadata": {
    "colab": {
      "name": "Confidence Intervals.ipynb",
      "provenance": []
    },
    "kernelspec": {
      "name": "python3",
      "display_name": "Python 3"
    }
  },
  "cells": [
    {
      "cell_type": "code",
      "metadata": {
        "id": "K7JFW_IskWy4",
        "colab_type": "code",
        "colab": {}
      },
      "source": [
        "import pandas as pd\n",
        "import numpy as np\n",
        "import matplotlib.pyplot as plt\n",
        "%matplotlib inline\n",
        "\n",
        "np.random.seed(42)\n",
        "\n",
        "coffee_full = pd.read_csv('coffee_dataset.csv')\n",
        "coffee_red = coffee_full.sample(200)"
      ],
      "execution_count": 1,
      "outputs": []
    },
    {
      "cell_type": "code",
      "metadata": {
        "id": "xz6sjSQZksd8",
        "colab_type": "code",
        "colab": {
          "base_uri": "https://localhost:8080/",
          "height": 50
        },
        "outputId": "57bdeba3-ea7d-48e1-d266-23c11e2caa96"
      },
      "source": [
        "#What is the proportion of coffee drinkers in the sample? What is the proportion of individuals that don't drink coffee?\n",
        "\n",
        "# Proportion person who drinks coffee.\n",
        "prop_true_coffee = sum(coffee_red.drinks_coffee)/len(coffee_red.drinks_coffee)\n",
        "\n",
        "# Print the proportion\n",
        "print(\"Proportion of Coffee Drinkers: \", prop_true_coffee)\n",
        "print(\"Proportion of Non Coffee Drinkers: \", 1 - prop_true_coffee)"
      ],
      "execution_count": 2,
      "outputs": [
        {
          "output_type": "stream",
          "text": [
            "Proportion of Coffee Drinkers:  0.595\n",
            "Proportion of Non Coffee Drinkers:  0.405\n"
          ],
          "name": "stdout"
        }
      ]
    },
    {
      "cell_type": "code",
      "metadata": {
        "id": "5prKZkO0kz1d",
        "colab_type": "code",
        "colab": {
          "base_uri": "https://localhost:8080/",
          "height": 50
        },
        "outputId": "36e46297-5ec5-43f6-bbc2-0a565e5c355e"
      },
      "source": [
        "# Of the individuals who drink coffee, what is the average height? Of the individuals who do not drink coffee, what is the average height?\n",
        "# Average Height of Coffee Drinkers\n",
        "hgt_avg_coff_drinkers = coffee_red[coffee_red.drinks_coffee].height.mean()\n",
        "\n",
        "# Average Height of Non Coffee Drinkers\n",
        "hgt_avg_non_coff_drinkers = coffee_red[np.logical_not(coffee_red.drinks_coffee)].height.mean()\n",
        "\n",
        "print(\"Average Height of Coffee Drinkers:\",hgt_avg_coff_drinkers)\n",
        "print(\"Average Height of Non Coffee Drinkers:\",hgt_avg_non_coff_drinkers)"
      ],
      "execution_count": 3,
      "outputs": [
        {
          "output_type": "stream",
          "text": [
            "Average Height of Coffee Drinkers: 68.1196299087395\n",
            "Average Height of Non Coffee Drinkers: 66.78492279913578\n"
          ],
          "name": "stdout"
        }
      ]
    },
    {
      "cell_type": "code",
      "metadata": {
        "id": "8A1u2jTvl5Sg",
        "colab_type": "code",
        "colab": {
          "base_uri": "https://localhost:8080/",
          "height": 34
        },
        "outputId": "583756d4-d62e-47de-f559-041054c43ea1"
      },
      "source": [
        "# Proportion of full population\n",
        "sum(coffee_full.drinks_coffee)/len(coffee_full.drinks_coffee)"
      ],
      "execution_count": 4,
      "outputs": [
        {
          "output_type": "execute_result",
          "data": {
            "text/plain": [
              "0.589778076664425"
            ]
          },
          "metadata": {
            "tags": []
          },
          "execution_count": 4
        }
      ]
    },
    {
      "cell_type": "code",
      "metadata": {
        "id": "TXrp_WvPl9vO",
        "colab_type": "code",
        "colab": {}
      },
      "source": [
        "#Simulate 200 \"new\" individuals from your original sample of 200. What are the proportion of coffee drinkers in your bootstrap sample? How about individuals that don't drink coffee?\n",
        "# Resampling the coffee_red using the bootstrap concept (replace = True)\n",
        "coffee_bts = coffee_red.sample(200, replace = True)"
      ],
      "execution_count": 5,
      "outputs": []
    },
    {
      "cell_type": "code",
      "metadata": {
        "id": "P9CrbZINmiBp",
        "colab_type": "code",
        "colab": {
          "base_uri": "https://localhost:8080/",
          "height": 34
        },
        "outputId": "f24d973e-9310-4b56-d723-f1208b521c81"
      },
      "source": [
        "sum(coffee_bts.drinks_coffee)/len(coffee_bts.drinks_coffee)"
      ],
      "execution_count": 6,
      "outputs": [
        {
          "output_type": "execute_result",
          "data": {
            "text/plain": [
              "0.605"
            ]
          },
          "metadata": {
            "tags": []
          },
          "execution_count": 6
        }
      ]
    },
    {
      "cell_type": "code",
      "metadata": {
        "id": "-nZ7COUsmjL4",
        "colab_type": "code",
        "colab": {}
      },
      "source": [
        "#Now simulate your bootstrap sample 10,000 times and take the mean height of the non-coffee drinkers in each sample. Each bootstrap sample should be from the very first sample of 200 data points. Plot the distribution, and pull the values necessary for a 95% confidence interval. What do you notice about the sampling distribution of the mean in this example?\n",
        "mean_height_10000 = []\n",
        "\n",
        "for index in range(0,10000):\n",
        "    coffee_bts = coffee_red.sample(200, replace = True)\n",
        "    temp = coffee_bts[np.logical_not(coffee_bts.drinks_coffee)].height.mean()\n",
        "    mean_height_10000.append(temp)"
      ],
      "execution_count": 7,
      "outputs": []
    },
    {
      "cell_type": "code",
      "metadata": {
        "id": "ZJFkOq14m5RN",
        "colab_type": "code",
        "colab": {
          "base_uri": "https://localhost:8080/",
          "height": 265
        },
        "outputId": "385090d4-cb21-4f60-ffe7-2a3da7edbc0a"
      },
      "source": [
        "plt.hist(mean_height_10000);"
      ],
      "execution_count": 8,
      "outputs": [
        {
          "output_type": "display_data",
          "data": {
            "image/png": "[encoded data removed]",
            "text/plain": [
              "<Figure size 432x288 with 1 Axes>"
            ]
          },
          "metadata": {
            "tags": [],
            "needs_background": "light"
          }
        }
      ]
    },
    {
      "cell_type": "code",
      "metadata": {
        "id": "L1iAzKljm-IN",
        "colab_type": "code",
        "colab": {
          "base_uri": "https://localhost:8080/",
          "height": 34
        },
        "outputId": "d116c15e-e62f-464e-ee38-e8533ef32daf"
      },
      "source": [
        "# Interval Confidence\n",
        "np.percentile(mean_height_10000, 2.5), np.percentile(mean_height_10000, 100 - 2.5)"
      ],
      "execution_count": 9,
      "outputs": [
        {
          "output_type": "execute_result",
          "data": {
            "text/plain": [
              "(65.99291328120263, 67.58402738287397)"
            ]
          },
          "metadata": {
            "tags": []
          },
          "execution_count": 9
        }
      ]
    },
    {
      "cell_type": "code",
      "metadata": {
        "id": "-yZxmNEZnC2t",
        "colab_type": "code",
        "colab": {
          "base_uri": "https://localhost:8080/",
          "height": 34
        },
        "outputId": "9cf27a84-f38f-45c9-fe88-5db11cb1613d"
      },
      "source": [
        "# Population mean of Non Coffee Drinkers.\n",
        "coffee_full[np.logical_not(coffee_full.drinks_coffee)].height.mean()"
      ],
      "execution_count": 10,
      "outputs": [
        {
          "output_type": "execute_result",
          "data": {
            "text/plain": [
              "66.4434077621148"
            ]
          },
          "metadata": {
            "tags": []
          },
          "execution_count": 10
        }
      ]
    },
    {
      "cell_type": "code",
      "metadata": {
        "id": "bwylRTy6nHH4",
        "colab_type": "code",
        "colab": {}
      },
      "source": [
        "import pandas as pd\n",
        "import numpy as np\n",
        "import matplotlib.pyplot as plt\n",
        "\n",
        "%matplotlib inline\n",
        "np.random.seed(42)\n",
        "\n",
        "full_data = pd.read_csv('coffee_dataset.csv')\n",
        "sample_data = full_data.sample(200)"
      ],
      "execution_count": 14,
      "outputs": []
    },
    {
      "cell_type": "code",
      "metadata": {
        "id": "TF-U2_o2nugV",
        "colab_type": "code",
        "colab": {
          "base_uri": "https://localhost:8080/",
          "height": 195
        },
        "outputId": "85bc9acd-d7ab-403b-b9f3-831c9dec8297"
      },
      "source": [
        "# Printing the first 5 rows\n",
        "sample_data.head()"
      ],
      "execution_count": 15,
      "outputs": [
        {
          "output_type": "execute_result",
          "data": {
            "text/html": [
              "<div>\n",
              "<style scoped>\n",
              "    .dataframe tbody tr th:only-of-type {\n",
              "        vertical-align: middle;\n",
              "    }\n",
              "\n",
              "    .dataframe tbody tr th {\n",
              "        vertical-align: top;\n",
              "    }\n",
              "\n",
              "    .dataframe thead th {\n",
              "        text-align: right;\n",
              "    }\n",
              "</style>\n",
              "<table border=\"1\" class=\"dataframe\">\n",
              "  <thead>\n",
              "    <tr style=\"text-align: right;\">\n",
              "      <th></th>\n",
              "      <th>user_id</th>\n",
              "      <th>age</th>\n",
              "      <th>drinks_coffee</th>\n",
              "      <th>height</th>\n",
              "    </tr>\n",
              "  </thead>\n",
              "  <tbody>\n",
              "    <tr>\n",
              "      <th>2402</th>\n",
              "      <td>2874</td>\n",
              "      <td>&lt;21</td>\n",
              "      <td>True</td>\n",
              "      <td>64.357154</td>\n",
              "    </tr>\n",
              "    <tr>\n",
              "      <th>2864</th>\n",
              "      <td>3670</td>\n",
              "      <td>&gt;=21</td>\n",
              "      <td>True</td>\n",
              "      <td>66.859636</td>\n",
              "    </tr>\n",
              "    <tr>\n",
              "      <th>2167</th>\n",
              "      <td>7441</td>\n",
              "      <td>&lt;21</td>\n",
              "      <td>False</td>\n",
              "      <td>66.659561</td>\n",
              "    </tr>\n",
              "    <tr>\n",
              "      <th>507</th>\n",
              "      <td>2781</td>\n",
              "      <td>&gt;=21</td>\n",
              "      <td>True</td>\n",
              "      <td>70.166241</td>\n",
              "    </tr>\n",
              "    <tr>\n",
              "      <th>1817</th>\n",
              "      <td>2875</td>\n",
              "      <td>&gt;=21</td>\n",
              "      <td>True</td>\n",
              "      <td>71.369120</td>\n",
              "    </tr>\n",
              "  </tbody>\n",
              "</table>\n",
              "</div>"
            ],
            "text/plain": [
              "      user_id   age  drinks_coffee     height\n",
              "2402     2874   <21           True  64.357154\n",
              "2864     3670  >=21           True  66.859636\n",
              "2167     7441   <21          False  66.659561\n",
              "507      2781  >=21           True  70.166241\n",
              "1817     2875  >=21           True  71.369120"
            ]
          },
          "metadata": {
            "tags": []
          },
          "execution_count": 15
        }
      ]
    },
    {
      "cell_type": "code",
      "metadata": {
        "id": "6oG98l4RoGTW",
        "colab_type": "code",
        "colab": {}
      },
      "source": [
        "#For 10,000 iterations, bootstrap sample your sample data, compute the difference in the average heights for coffee and non-coffee drinkers. Build a 99% confidence interval using your sampling distribution\n",
        "# Initializing a variable to store the differences.\n",
        "diff_heights = []\n",
        "\n",
        "# Loop to create 10,000 samples of 200.\n",
        "for index in range(10000):\n",
        "    # Sampling 200 \"elements\" of full_data.\n",
        "    sample = full_data.sample(200, replace = True)\n",
        "\n",
        "    # Coffee Drinkers\n",
        "    avg_coffee_drinkers = sample[sample.drinks_coffee].height.mean()\n",
        "\n",
        "    # Non Coffee Drinkers\n",
        "    avg_non_coffee_drinkers = sample[np.logical_not(sample.drinks_coffee)].height.mean()\n",
        "    \n",
        "    # Difference of Heights\n",
        "    diff = avg_coffee_drinkers - avg_non_coffee_drinkers\n",
        "    \n",
        "    # Append diff in the list.\n",
        "    diff_heights.append(diff)"
      ],
      "execution_count": 16,
      "outputs": []
    },
    {
      "cell_type": "code",
      "metadata": {
        "id": "hT7As8aJoqIG",
        "colab_type": "code",
        "colab": {
          "base_uri": "https://localhost:8080/",
          "height": 34
        },
        "outputId": "dd710e69-49a8-471a-9af4-cfca543e3ffa"
      },
      "source": [
        "np.percentile(diff_heights, 0.5), np.percentile(diff_heights, 99.5)"
      ],
      "execution_count": 17,
      "outputs": [
        {
          "output_type": "execute_result",
          "data": {
            "text/plain": [
              "(0.7804195542719816, 3.1064330971870584)"
            ]
          },
          "metadata": {
            "tags": []
          },
          "execution_count": 17
        }
      ]
    },
    {
      "cell_type": "code",
      "metadata": {
        "id": "PxRQ4Engozl2",
        "colab_type": "code",
        "colab": {}
      },
      "source": [
        "#For 10,000 iterations, bootstrap sample your sample data, compute the difference in the average heights for those older than 21 and those younger than 21. Build a 99% confidence interval using your sampling distribution.\n",
        "# Initializing a variable to store the differences.\n",
        "diff_heights_age = []\n",
        "\n",
        "# Loop to create 10,000 samples of 200.\n",
        "for index in range(10000):\n",
        "    # Sampling 200 \"elements\" of full_data.\n",
        "    sample = full_data.sample(200, replace = True)\n",
        "\n",
        "    # Older than 21\n",
        "    avg_older_drinkers = sample.query(\"age == '>=21'\").height.mean()\n",
        "\n",
        "    # Younger\n",
        "    avg_young_drinkers = sample.query(\"age == '<21'\").height.mean()\n",
        "    \n",
        "    # Difference of Heights\n",
        "    diff = avg_older_drinkers - avg_young_drinkers\n",
        "    \n",
        "    # Append diff in the list.\n",
        "    diff_heights_age.append(diff)"
      ],
      "execution_count": 18,
      "outputs": []
    },
    {
      "cell_type": "code",
      "metadata": {
        "id": "vkPoPiw4o9Nd",
        "colab_type": "code",
        "colab": {
          "base_uri": "https://localhost:8080/",
          "height": 34
        },
        "outputId": "5cd29e1d-d86b-4ff8-b15b-316785cb8d08"
      },
      "source": [
        "np.percentile(diff_heights_age, 0.5), np.percentile(diff_heights_age, 99.5)"
      ],
      "execution_count": 19,
      "outputs": [
        {
          "output_type": "execute_result",
          "data": {
            "text/plain": [
              "(2.9325260713362917, 4.8286362663899745)"
            ]
          },
          "metadata": {
            "tags": []
          },
          "execution_count": 19
        }
      ]
    },
    {
      "cell_type": "code",
      "metadata": {
        "id": "WmB4xI2ipEno",
        "colab_type": "code",
        "colab": {}
      },
      "source": [
        "#For 10,000 iterations bootstrap your sample data, compute the difference in the average height for coffee drinkers and the average height for non-coffee drinkers for individuals under 21 years old. Using your sampling distribution, build a 95% confidence interval. \n",
        "# Initializing a variable to store the differences.\n",
        "diff_heights_young_drinkers = []\n",
        "avg_21_non_coffee_drinkers = []\n",
        "avg_21_coffee_drinkers = []\n",
        "diff_heights_young_drinkers2 = []\n",
        "\n",
        "# Loop to create 10,000 samples of 200.\n",
        "for index in range(10000):\n",
        "    # Sampling 200 \"elements\" of full_data.\n",
        "    sample = full_data.sample(200, replace = True)\n",
        "\n",
        "    # Older than 21\n",
        "    avg_young_coffee_drinkers = sample.query(\"age == '<21'\").query(\"drinks_coffee == True\").height.mean()\n",
        "\n",
        "    # Younger\n",
        "    avg_young_non_coffee_drinkers = sample.query(\"age == '<21'\").query(\"drinks_coffee == False\").height.mean()\n",
        "    \n",
        "    # Difference of Heights\n",
        "    diff = avg_young_coffee_drinkers - avg_young_non_coffee_drinkers\n",
        "    \n",
        "    diff2 = avg_young_non_coffee_drinkers - avg_young_coffee_drinkers\n",
        "    \n",
        "    # Append diff in the list.\n",
        "    diff_heights_young_drinkers.append(diff)\n",
        "    avg_21_non_coffee_drinkers.append(avg_young_non_coffee_drinkers)\n",
        "    avg_21_coffee_drinkers.append(avg_young_coffee_drinkers)\n",
        "    diff_heights_young_drinkers2.append(diff2)"
      ],
      "execution_count": 20,
      "outputs": []
    },
    {
      "cell_type": "code",
      "metadata": {
        "id": "MEfjUIp6pZb4",
        "colab_type": "code",
        "colab": {
          "base_uri": "https://localhost:8080/",
          "height": 70
        },
        "outputId": "6df4e073-3362-45b1-c8c7-b19f98f4b1b6"
      },
      "source": [
        "import seaborn as sns\n",
        "import matplotlib.pylab as plt"
      ],
      "execution_count": 21,
      "outputs": [
        {
          "output_type": "stream",
          "text": [
            "/usr/local/lib/python3.6/dist-packages/statsmodels/tools/_testing.py:19: FutureWarning: pandas.util.testing is deprecated. Use the functions in the public API at pandas.testing instead.\n",
            "  import pandas.util.testing as tm\n"
          ],
          "name": "stderr"
        }
      ]
    },
    {
      "cell_type": "code",
      "metadata": {
        "id": "zYHWxJa6piCH",
        "colab_type": "code",
        "colab": {
          "base_uri": "https://localhost:8080/",
          "height": 413
        },
        "outputId": "b8ab966d-e1b7-40c2-c5ad-49049e950259"
      },
      "source": [
        "#sns.distplot(diff_heights_young_drinkers);\n",
        "plt.figure(figsize = [14, 6])\n",
        "sns.distplot(avg_21_non_coffee_drinkers);\n",
        "sns.distplot(avg_21_coffee_drinkers);\n",
        "plt.legend(['non-coffee','coffee']);\n",
        "plt.title(\"Histogram about coffee and non_coffee\", fontsize = 20);\n",
        "plt.xlabel(\"Altura\", fontsize = 14);"
      ],
      "execution_count": 26,
      "outputs": [
        {
          "output_type": "display_data",
          "data": {
            "image/png": "[encoded data removed]",
            "text/plain": [
              "<Figure size 1008x432 with 1 Axes>"
            ]
          },
          "metadata": {
            "tags": [],
            "needs_background": "light"
          }
        }
      ]
    },
    {
      "cell_type": "code",
      "metadata": {
        "id": "X-qdXrrWpruv",
        "colab_type": "code",
        "colab": {
          "base_uri": "https://localhost:8080/",
          "height": 413
        },
        "outputId": "ccf5c0ae-4e8e-40c5-f556-fd1b204111ab"
      },
      "source": [
        "plt.figure(figsize = [14, 6])\n",
        "sns.distplot(diff_heights_young_drinkers, color = 'green');\n",
        "plt.title(\"Histogram difference between coffee and non_coffee.\", fontsize = 20);\n",
        "plt.xlabel(\"Altura\", fontsize = 14);"
      ],
      "execution_count": 25,
      "outputs": [
        {
          "output_type": "display_data",
          "data": {
            "image/png": "[encoded data removed]",
            "text/plain": [
              "<Figure size 1008x432 with 1 Axes>"
            ]
          },
          "metadata": {
            "tags": [],
            "needs_background": "light"
          }
        }
      ]
    },
    {
      "cell_type": "code",
      "metadata": {
        "id": "44Ls1UAPpze0",
        "colab_type": "code",
        "colab": {
          "base_uri": "https://localhost:8080/",
          "height": 413
        },
        "outputId": "dfec4131-d65b-4ba2-c8ba-5daa0f505bee"
      },
      "source": [
        "plt.figure(figsize = [14, 6])\n",
        "sns.distplot(diff_heights_young_drinkers, color = 'green');\n",
        "plt.title(\"Interval difference between coffee and non-coffee.\", fontsize = 20);\n",
        "plt.xlabel(\"Altura\", fontsize = 14);\n",
        "plt.axvline(x = np.percentile(diff_heights_young_drinkers, 2.5), color = 'r', linestyle = 'dashed');\n",
        "plt.axvline(x = np.percentile(diff_heights_young_drinkers, 97.5), color = 'r', linestyle = 'dashed');"
      ],
      "execution_count": 27,
      "outputs": [
        {
          "output_type": "display_data",
          "data": {
            "image/png": "[encoded data removed]",
            "text/plain": [
              "<Figure size 1008x432 with 1 Axes>"
            ]
          },
          "metadata": {
            "tags": [],
            "needs_background": "light"
          }
        }
      ]
    },
    {
      "cell_type": "code",
      "metadata": {
        "id": "A4NmwS0np4WH",
        "colab_type": "code",
        "colab": {
          "base_uri": "https://localhost:8080/",
          "height": 413
        },
        "outputId": "91c8cc9d-cbb5-4c9a-dffd-bd9dc404d66e"
      },
      "source": [
        "plt.figure(figsize = [14, 6])\n",
        "sns.distplot(diff_heights_young_drinkers2, color = 'red');\n",
        "df_normal = np.random.normal(0, np.std(diff_heights_young_drinkers), 10000)\n",
        "sns.distplot(df_normal)\n",
        "plt.legend(['Diference','Normal'])\n",
        "plt.title(\"Compare between difference and normal\", fontsize = 20);\n",
        "plt.axvline(x = np.percentile(df_normal, 95.0), color = 'r', linestyle = 'dashed');\n",
        "plt.xlabel(\"Altura\", fontsize = 14);\n",
        "plt.show()"
      ],
      "execution_count": 30,
      "outputs": [
        {
          "output_type": "display_data",
          "data": {
            "image/png": "[encoded data removed]",
            "text/plain": [
              "<Figure size 1008x432 with 1 Axes>"
            ]
          },
          "metadata": {
            "tags": [],
            "needs_background": "light"
          }
        }
      ]
    },
    {
      "cell_type": "code",
      "metadata": {
        "id": "MhQWtDPTqcel",
        "colab_type": "code",
        "colab": {
          "base_uri": "https://localhost:8080/",
          "height": 34
        },
        "outputId": "632c6f7d-cad4-4494-8b18-e92fdc6bc2aa"
      },
      "source": [
        "(df_normal > np.mean(diff_heights_young_drinkers2)).mean()"
      ],
      "execution_count": 31,
      "outputs": [
        {
          "output_type": "execute_result",
          "data": {
            "text/plain": [
              "0.0"
            ]
          },
          "metadata": {
            "tags": []
          },
          "execution_count": 31
        }
      ]
    },
    {
      "cell_type": "code",
      "metadata": {
        "id": "xzkMB2Hcqm8H",
        "colab_type": "code",
        "colab": {
          "base_uri": "https://localhost:8080/",
          "height": 34
        },
        "outputId": "02591836-59ab-47c5-c248-5ccf6f697f84"
      },
      "source": [
        "np.percentile(diff_heights_young_drinkers, 2.5), np.percentile(diff_heights_young_drinkers, 97.5)"
      ],
      "execution_count": 32,
      "outputs": [
        {
          "output_type": "execute_result",
          "data": {
            "text/plain": [
              "(-2.497223151081322, -0.875819156944543)"
            ]
          },
          "metadata": {
            "tags": []
          },
          "execution_count": 32
        }
      ]
    },
    {
      "cell_type": "code",
      "metadata": {
        "id": "9fppoGyJqqBd",
        "colab_type": "code",
        "colab": {}
      },
      "source": [
        "#For 10,000 iterations bootstrap your sample data, compute the difference in the average height for coffee drinkers and the average height for non-coffee drinkers for individuals over 21 years old. Using your sampling distribution, build a 95% confidence interval.\n"
      ],
      "execution_count": null,
      "outputs": []
    },
    {
      "cell_type": "code",
      "metadata": {
        "id": "0EFpRm61nSKj",
        "colab_type": "code",
        "colab": {}
      },
      "source": [
        "# Initializing a variable to store the differences.\n",
        "diff_heights_older_drinkers = []\n",
        "\n",
        "# Loop to create 10,000 samples of 200.\n",
        "for index in range(10000):\n",
        "    # Sampling 200 \"elements\" of full_data.\n",
        "    sample = full_data.sample(200, replace = True)\n",
        "\n",
        "    # Older than 21\n",
        "    avg_old_coffee_drinkers = sample.query(\"age == '>=21'\").query(\"drinks_coffee == True\").height.mean()\n",
        "\n",
        "    # Younger\n",
        "    avg_old_non_coffee_drinkers = sample.query(\"age == '>=21'\").query(\"drinks_coffee == False\").height.mean()\n",
        "    \n",
        "    # Difference of Heights\n",
        "    diff = avg_old_coffee_drinkers - avg_old_non_coffee_drinkers\n",
        "    \n",
        "    # Append diff in the list.\n",
        "    diff_heights_older_drinkers.append(diff)"
      ],
      "execution_count": 33,
      "outputs": []
    },
    {
      "cell_type": "code",
      "metadata": {
        "id": "3BaLnDxfqylq",
        "colab_type": "code",
        "colab": {
          "base_uri": "https://localhost:8080/",
          "height": 34
        },
        "outputId": "1bef7b2d-69af-4adb-ecf2-82fcb55aab87"
      },
      "source": [
        "np.percentile(diff_heights_older_drinkers, 2.5), np.percentile(diff_heights_older_drinkers, 97.5)"
      ],
      "execution_count": 34,
      "outputs": [
        {
          "output_type": "execute_result",
          "data": {
            "text/plain": [
              "(-3.291336265534895, -0.6341722295605856)"
            ]
          },
          "metadata": {
            "tags": []
          },
          "execution_count": 34
        }
      ]
    },
    {
      "cell_type": "code",
      "metadata": {
        "id": "f06B7-Bcq1tc",
        "colab_type": "code",
        "colab": {
          "base_uri": "https://localhost:8080/",
          "height": 195
        },
        "outputId": "08da29a2-7f47-4fde-880d-19788cd681b9"
      },
      "source": [
        "sample_data.head()"
      ],
      "execution_count": 35,
      "outputs": [
        {
          "output_type": "execute_result",
          "data": {
            "text/html": [
              "<div>\n",
              "<style scoped>\n",
              "    .dataframe tbody tr th:only-of-type {\n",
              "        vertical-align: middle;\n",
              "    }\n",
              "\n",
              "    .dataframe tbody tr th {\n",
              "        vertical-align: top;\n",
              "    }\n",
              "\n",
              "    .dataframe thead th {\n",
              "        text-align: right;\n",
              "    }\n",
              "</style>\n",
              "<table border=\"1\" class=\"dataframe\">\n",
              "  <thead>\n",
              "    <tr style=\"text-align: right;\">\n",
              "      <th></th>\n",
              "      <th>user_id</th>\n",
              "      <th>age</th>\n",
              "      <th>drinks_coffee</th>\n",
              "      <th>height</th>\n",
              "    </tr>\n",
              "  </thead>\n",
              "  <tbody>\n",
              "    <tr>\n",
              "      <th>2402</th>\n",
              "      <td>2874</td>\n",
              "      <td>&lt;21</td>\n",
              "      <td>True</td>\n",
              "      <td>64.357154</td>\n",
              "    </tr>\n",
              "    <tr>\n",
              "      <th>2864</th>\n",
              "      <td>3670</td>\n",
              "      <td>&gt;=21</td>\n",
              "      <td>True</td>\n",
              "      <td>66.859636</td>\n",
              "    </tr>\n",
              "    <tr>\n",
              "      <th>2167</th>\n",
              "      <td>7441</td>\n",
              "      <td>&lt;21</td>\n",
              "      <td>False</td>\n",
              "      <td>66.659561</td>\n",
              "    </tr>\n",
              "    <tr>\n",
              "      <th>507</th>\n",
              "      <td>2781</td>\n",
              "      <td>&gt;=21</td>\n",
              "      <td>True</td>\n",
              "      <td>70.166241</td>\n",
              "    </tr>\n",
              "    <tr>\n",
              "      <th>1817</th>\n",
              "      <td>2875</td>\n",
              "      <td>&gt;=21</td>\n",
              "      <td>True</td>\n",
              "      <td>71.369120</td>\n",
              "    </tr>\n",
              "  </tbody>\n",
              "</table>\n",
              "</div>"
            ],
            "text/plain": [
              "      user_id   age  drinks_coffee     height\n",
              "2402     2874   <21           True  64.357154\n",
              "2864     3670  >=21           True  66.859636\n",
              "2167     7441   <21          False  66.659561\n",
              "507      2781  >=21           True  70.166241\n",
              "1817     2875  >=21           True  71.369120"
            ]
          },
          "metadata": {
            "tags": []
          },
          "execution_count": 35
        }
      ]
    },
    {
      "cell_type": "code",
      "metadata": {
        "id": "tLtLzTSmq5IK",
        "colab_type": "code",
        "colab": {
          "base_uri": "https://localhost:8080/",
          "height": 271
        },
        "outputId": "9e7b9458-71de-4396-d246-bb2b0b8459b0"
      },
      "source": [
        "#barplot\n",
        "sns.barplot(data = sample_data, y = 'drinks_coffee', hue = 'drinks_coffee')"
      ],
      "execution_count": 36,
      "outputs": [
        {
          "output_type": "execute_result",
          "data": {
            "text/plain": [
              "<matplotlib.axes._subplots.AxesSubplot at 0x7f2b33d62c18>"
            ]
          },
          "metadata": {
            "tags": []
          },
          "execution_count": 36
        },
        {
          "output_type": "display_data",
          "data": {
            "image/png": "[encoded data removed]",
            "text/plain": [
              "<Figure size 432x288 with 1 Axes>"
            ]
          },
          "metadata": {
            "tags": [],
            "needs_background": "light"
          }
        }
      ]
    },
    {
      "cell_type": "code",
      "metadata": {
        "id": "jSo5bJ1Dq-tl",
        "colab_type": "code",
        "colab": {}
      },
      "source": [
        "#Thank You"
      ],
      "execution_count": 38,
      "outputs": []
    },
    {
      "cell_type": "code",
      "metadata": {
        "id": "p8lHE0HBrWQB",
        "colab_type": "code",
        "colab": {}
      },
      "source": [
        ""
      ],
      "execution_count": null,
      "outputs": []
    }
  ]
}