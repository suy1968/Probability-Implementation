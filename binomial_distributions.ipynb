{
  "nbformat": 4,
  "nbformat_minor": 0,
  "metadata": {
    "colab": {
      "name": "binomial_distributions.ipynb",
      "provenance": []
    },
    "kernelspec": {
      "name": "python3",
      "display_name": "Python 3"
    }
  },
  "cells": [
    {
      "cell_type": "code",
      "metadata": {
        "id": "V9diLFfP0Lvd",
        "colab_type": "code",
        "colab": {}
      },
      "source": [
        "#  QUESTION:-\n",
        "#In this quiz, you will simulate coin flips using np.random.binomial to compute proportions for the following outcomes.\n",
        "\n",
        "#A fair coin flip produces heads\n",
        "#Five fair coin flips produce exactly one head\n",
        "#Ten fair coin flips produce exactly four heads\n",
        "#Five biased coin flips with P(H) = 0.8 produce exactly five heads\n",
        "#Ten biased coin flips with P(H) = 0.15 produce at least three heads"
      ],
      "execution_count": 1,
      "outputs": []
    },
    {
      "cell_type": "code",
      "metadata": {
        "id": "qE9jppeG0kAp",
        "colab_type": "code",
        "colab": {}
      },
      "source": [
        "# import numpy\n",
        "import numpy as np"
      ],
      "execution_count": 2,
      "outputs": []
    },
    {
      "cell_type": "code",
      "metadata": {
        "id": "7VXzMMi50lA_",
        "colab_type": "code",
        "colab": {
          "base_uri": "https://localhost:8080/",
          "height": 34
        },
        "outputId": "bb5e9d80-4cce-4e6a-a891-b497715d18dc"
      },
      "source": [
        "#A fair coin flip produces heads\n",
        "\n",
        "# simulate 1 million tests of one fair coin flip\n",
        "# remember, the output of these tests are the # successes, or # heads\n",
        "tests = np.random.binomial(1, 0.5, int(1e6))\n",
        "\n",
        "# proportion of tests that produced heads\n",
        "(tests == 1).mean()\n"
      ],
      "execution_count": 4,
      "outputs": [
        {
          "output_type": "execute_result",
          "data": {
            "text/plain": [
              "0.499351"
            ]
          },
          "metadata": {
            "tags": []
          },
          "execution_count": 4
        }
      ]
    },
    {
      "cell_type": "code",
      "metadata": {
        "id": "6cSJ5PlT0rM8",
        "colab_type": "code",
        "colab": {
          "base_uri": "https://localhost:8080/",
          "height": 34
        },
        "outputId": "e267f939-0ae6-4811-8f65-86b16ea6f54c"
      },
      "source": [
        "#Five fair coin flips produce exactly one head\n",
        "\n",
        "# simulate 1 million tests of five fair coin flips\n",
        "tests = np.random.binomial(5, 0.5, int(1e6))\n",
        "\n",
        "# proportion of tests that produced 1 head\n",
        "(tests == 1).mean()\n"
      ],
      "execution_count": 5,
      "outputs": [
        {
          "output_type": "execute_result",
          "data": {
            "text/plain": [
              "0.156285"
            ]
          },
          "metadata": {
            "tags": []
          },
          "execution_count": 5
        }
      ]
    },
    {
      "cell_type": "code",
      "metadata": {
        "id": "uqLrV9qP1FQX",
        "colab_type": "code",
        "colab": {
          "base_uri": "https://localhost:8080/",
          "height": 34
        },
        "outputId": "4c2cd7c3-9ddc-41ee-88a0-60fb4cc81c9b"
      },
      "source": [
        "#Ten fair coin flips produce exactly four heads\n",
        "\n",
        "# simulate 1 million tests of ten fair coin flips\n",
        "tests = np.random.binomial(10, 0.5, int(1e6))\n",
        "\n",
        "# proportion of tests that produced 4 heads\n",
        "(tests == 4).mean()"
      ],
      "execution_count": 6,
      "outputs": [
        {
          "output_type": "execute_result",
          "data": {
            "text/plain": [
              "0.205006"
            ]
          },
          "metadata": {
            "tags": []
          },
          "execution_count": 6
        }
      ]
    },
    {
      "cell_type": "code",
      "metadata": {
        "id": "1xqMSkfa1LVz",
        "colab_type": "code",
        "colab": {
          "base_uri": "https://localhost:8080/",
          "height": 34
        },
        "outputId": "5761c185-8e73-45cb-e3f0-380ad4603f37"
      },
      "source": [
        "#Five biased coin flips with P(H) = 0.8 produce exactly five heads\n",
        "\n",
        "# simulate 1 million tests of five biased coin flips\n",
        "tests = np.random.binomial(5, p = 0.8 , size = int(1e6))\n",
        "\n",
        "# proportion of tests that produced 5 heads\n",
        "(tests == 5).mean()"
      ],
      "execution_count": 9,
      "outputs": [
        {
          "output_type": "execute_result",
          "data": {
            "text/plain": [
              "0.327542"
            ]
          },
          "metadata": {
            "tags": []
          },
          "execution_count": 9
        }
      ]
    },
    {
      "cell_type": "code",
      "metadata": {
        "id": "ZQP2R1ol1fbb",
        "colab_type": "code",
        "colab": {
          "base_uri": "https://localhost:8080/",
          "height": 34
        },
        "outputId": "5fa8eba9-9d37-4066-dd66-acbcfe5868dd"
      },
      "source": [
        "#Ten biased coin flips with P(H) = 0.15 produce at least 3 heads\n",
        "\n",
        "# simulate 1 million tests of ten biased coin flips\n",
        "tests = np.random.binomial(10, p = 0.15 , size = int(1e6))\n",
        "\n",
        "# proportion of tests that produced at least 3 heads\n",
        "(tests >= 3).mean()\n",
        "\n",
        "\n"
      ],
      "execution_count": 10,
      "outputs": [
        {
          "output_type": "execute_result",
          "data": {
            "text/plain": [
              "0.180046"
            ]
          },
          "metadata": {
            "tags": []
          },
          "execution_count": 10
        }
      ]
    },
    {
      "cell_type": "code",
      "metadata": {
        "id": "khzwD5L51sfB",
        "colab_type": "code",
        "colab": {}
      },
      "source": [
        ""
      ],
      "execution_count": null,
      "outputs": []
    }
  ]
}